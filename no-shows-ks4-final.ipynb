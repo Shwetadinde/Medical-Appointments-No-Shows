{
 "cells": [
  {
   "cell_type": "markdown",
   "metadata": {},
   "source": [
    "# Project: Investigate a Dataset (Medical Appointments No Shows)\n",
    "\n",
    "Krzysztof Satola (August 29, 2018)\n",
    "\n",
    "## Table of Contents\n",
    "<ul>\n",
    "<li><a href=\"#intro\">Introduction</a></li>\n",
    "<li><a href=\"#wrangling\">Data Wrangling</a></li>\n",
    "<li><a href=\"#questions\">Questions</a></li>\n",
    "<li><a href=\"#eda\">Exploratory Data Analysis</a></li>\n",
    "<li><a href=\"#conclusions\">Conclusions</a></li>\n",
    "</ul>"
   ]
  },
  {
   "cell_type": "markdown",
   "metadata": {},
   "source": [
    "<a id='intro'></a>\n",
    "## Introduction\n",
    "In this project I have investigated a dataset of appoinment records for Brasil public hospitals. The data includes some attributes of patients and state if the patients showed up to appointments. The analysis is focused on finding trends influencing patients to show or not show up to appointments.\n",
    "\n",
    "The original problem description and data set can be found here: https://www.kaggle.com/joniarroba/noshowappointments/home\n",
    "\n",
    "### Dataset Description\n",
    "\n",
    "<table>\n",
    "    <tr>\n",
    "        <th>Name</th>\n",
    "        <th>Value(s)</th>\n",
    "        <th>Description</th>\n",
    "    </tr>\n",
    "    <tr>\n",
    "        <td>PatienID</td>\n",
    "        <td>number</td>\n",
    "        <td>identification of a patient</td>\n",
    "    </tr>\n",
    "    <tr>\n",
    "        <td>AppointmentID</td>\n",
    "        <td>number</td>\n",
    "        <td>identification of each appointment</td>\n",
    "    </tr>\n",
    "    <tr>\n",
    "        <td>Gender</td>\n",
    "        <td>F or M</td>\n",
    "        <td>it says 'F' if female or 'M' if man</td>\n",
    "    </tr>\n",
    "    <tr>\n",
    "        <td>ScheduledDay</td>\n",
    "        <td>date</td>\n",
    "        <td>tells us on what day the patient set up their appointment</td>\n",
    "    </tr>\n",
    "    <tr>\n",
    "        <td>AppointmentDay</td>\n",
    "        <td>date</td>\n",
    "        <td>the day of the actuall appointment, when they have to visit the doctor</td>\n",
    "    </tr>\n",
    "    <tr>\n",
    "        <td>Age</td>\n",
    "        <td>number</td>\n",
    "        <td>how old is the patient</td>\n",
    "    </tr>\n",
    "    <tr>\n",
    "        <td>Neighbourhood</td>\n",
    "        <td>string</td>\n",
    "        <td>indicates the location of the hospital</td>\n",
    "    </tr>\n",
    "    <tr>\n",
    "        <td>Scholarship</td>\n",
    "        <td>0 or 1</td>\n",
    "        <td>indicates whether or not the patient is enrolled in Brasilian welfare program Bolsa Família</td>\n",
    "    </tr>\n",
    "    <tr>\n",
    "        <td>Hipertension</td>\n",
    "        <td>0 or 1</td>\n",
    "        <td>indicates if the patient has hipertension</td>\n",
    "    </tr>\n",
    "    <tr>\n",
    "        <td>Diabetes</td>\n",
    "        <td>0 or 1</td>\n",
    "        <td>indicates if the patient has diabetes</td>\n",
    "    </tr>\n",
    "    <tr>\n",
    "        <td>Alcoholism</td>\n",
    "        <td>0 or 1</td>\n",
    "        <td>indicates if the patient is an alcoholic</td>\n",
    "    </tr>\n",
    "    <tr>\n",
    "        <td>Handcap</td>\n",
    "        <td>0 or 1</td>\n",
    "        <td>indicates if the patient is handicaped</td>\n",
    "    </tr>\n",
    "    <tr>\n",
    "        <td>SMS_received</td>\n",
    "        <td>0 or 1</td>\n",
    "        <td>1 or more messages sent to the patient</td>\n",
    "    </tr>\n",
    "    <tr>\n",
    "        <td>No-show</td>\n",
    "        <td>Yes or No</td>\n",
    "        <td>it says ‘No’ if the patient showed up to their appointment, and ‘Yes’ if they did not show up</td>\n",
    "    </tr>\n",
    "</table>\n"
   ]
  },
  {
   "cell_type": "markdown",
   "metadata": {},
   "source": [
    "<a id='wrangling'></a>\n",
    "## Data Wrangling"
   ]
  },
  {
   "cell_type": "code",
   "execution_count": 1,
   "metadata": {},
   "outputs": [],
   "source": [
    "import numpy as np\n",
    "import pandas as pd\n",
    "import matplotlib.pyplot as plt\n",
    "import seaborn as sns\n",
    "\n",
    "import warnings\n",
    "warnings.filterwarnings('ignore')\n",
    "\n",
    "%matplotlib inline"
   ]
  },
  {
   "cell_type": "code",
   "execution_count": 2,
   "metadata": {},
   "outputs": [
    {
     "data": {
      "text/plain": [
       "(110527, 14)"
      ]
     },
     "execution_count": 2,
     "metadata": {},
     "output_type": "execute_result"
    }
   ],
   "source": [
    "# Load data to a dataframe\n",
    "df = pd.read_csv('noshowappointments-kagglev2-may-2016.csv')\n",
    "\n",
    "# Learn the size of the dataset\n",
    "df.shape"
   ]
  },
  {
   "cell_type": "markdown",
   "metadata": {},
   "source": [
    "There are 110527 records and 14 columns in the dataset."
   ]
  },
  {
   "cell_type": "code",
   "execution_count": 3,
   "metadata": {},
   "outputs": [
    {
     "data": {
      "text/plain": [
       "Index(['PatientId', 'AppointmentID', 'Gender', 'ScheduledDay',\n",
       "       'AppointmentDay', 'Age', 'Neighbourhood', 'Scholarship', 'Hipertension',\n",
       "       'Diabetes', 'Alcoholism', 'Handcap', 'SMS_received', 'No-show'],\n",
       "      dtype='object')"
      ]
     },
     "execution_count": 3,
     "metadata": {},
     "output_type": "execute_result"
    }
   ],
   "source": [
    "df.columns"
   ]
  },
  {
   "cell_type": "code",
   "execution_count": 4,
   "metadata": {},
   "outputs": [
    {
     "data": {
      "text/plain": [
       "Index(['patient_id', 'appointment_id', 'gender', 'scheduled_day',\n",
       "       'appointment_day', 'age', 'neighbourhood', 'scholarship',\n",
       "       'hypertension', 'diabetes', 'alcoholism', 'handicap', 'sms_received',\n",
       "       'no_show'],\n",
       "      dtype='object')"
      ]
     },
     "execution_count": 4,
     "metadata": {},
     "output_type": "execute_result"
    }
   ],
   "source": [
    "# Typos in the column names as well as their format should be corrected / unified\n",
    "df.columns = ['patient_id', 'appointment_id', 'gender', 'scheduled_day', \n",
    "              'appointment_day', 'age', 'neighbourhood', 'scholarship', 'hypertension',\n",
    "              'diabetes', 'alcoholism', 'handicap', 'sms_received', 'no_show']\n",
    "df.columns"
   ]
  },
  {
   "cell_type": "code",
   "execution_count": 5,
   "metadata": {},
   "outputs": [
    {
     "data": {
      "text/html": [
       "<div>\n",
       "<style scoped>\n",
       "    .dataframe tbody tr th:only-of-type {\n",
       "        vertical-align: middle;\n",
       "    }\n",
       "\n",
       "    .dataframe tbody tr th {\n",
       "        vertical-align: top;\n",
       "    }\n",
       "\n",
       "    .dataframe thead th {\n",
       "        text-align: right;\n",
       "    }\n",
       "</style>\n",
       "<table border=\"1\" class=\"dataframe\">\n",
       "  <thead>\n",
       "    <tr style=\"text-align: right;\">\n",
       "      <th></th>\n",
       "      <th>patient_id</th>\n",
       "      <th>appointment_id</th>\n",
       "      <th>gender</th>\n",
       "      <th>scheduled_day</th>\n",
       "      <th>appointment_day</th>\n",
       "      <th>age</th>\n",
       "      <th>neighbourhood</th>\n",
       "      <th>scholarship</th>\n",
       "      <th>hypertension</th>\n",
       "      <th>diabetes</th>\n",
       "      <th>alcoholism</th>\n",
       "      <th>handicap</th>\n",
       "      <th>sms_received</th>\n",
       "      <th>no_show</th>\n",
       "    </tr>\n",
       "  </thead>\n",
       "  <tbody>\n",
       "    <tr>\n",
       "      <th>0</th>\n",
       "      <td>2.987250e+13</td>\n",
       "      <td>5642903</td>\n",
       "      <td>F</td>\n",
       "      <td>2016-04-29T18:38:08Z</td>\n",
       "      <td>2016-04-29T00:00:00Z</td>\n",
       "      <td>62</td>\n",
       "      <td>JARDIM DA PENHA</td>\n",
       "      <td>0</td>\n",
       "      <td>1</td>\n",
       "      <td>0</td>\n",
       "      <td>0</td>\n",
       "      <td>0</td>\n",
       "      <td>0</td>\n",
       "      <td>No</td>\n",
       "    </tr>\n",
       "    <tr>\n",
       "      <th>1</th>\n",
       "      <td>5.589978e+14</td>\n",
       "      <td>5642503</td>\n",
       "      <td>M</td>\n",
       "      <td>2016-04-29T16:08:27Z</td>\n",
       "      <td>2016-04-29T00:00:00Z</td>\n",
       "      <td>56</td>\n",
       "      <td>JARDIM DA PENHA</td>\n",
       "      <td>0</td>\n",
       "      <td>0</td>\n",
       "      <td>0</td>\n",
       "      <td>0</td>\n",
       "      <td>0</td>\n",
       "      <td>0</td>\n",
       "      <td>No</td>\n",
       "    </tr>\n",
       "    <tr>\n",
       "      <th>2</th>\n",
       "      <td>4.262962e+12</td>\n",
       "      <td>5642549</td>\n",
       "      <td>F</td>\n",
       "      <td>2016-04-29T16:19:04Z</td>\n",
       "      <td>2016-04-29T00:00:00Z</td>\n",
       "      <td>62</td>\n",
       "      <td>MATA DA PRAIA</td>\n",
       "      <td>0</td>\n",
       "      <td>0</td>\n",
       "      <td>0</td>\n",
       "      <td>0</td>\n",
       "      <td>0</td>\n",
       "      <td>0</td>\n",
       "      <td>No</td>\n",
       "    </tr>\n",
       "    <tr>\n",
       "      <th>3</th>\n",
       "      <td>8.679512e+11</td>\n",
       "      <td>5642828</td>\n",
       "      <td>F</td>\n",
       "      <td>2016-04-29T17:29:31Z</td>\n",
       "      <td>2016-04-29T00:00:00Z</td>\n",
       "      <td>8</td>\n",
       "      <td>PONTAL DE CAMBURI</td>\n",
       "      <td>0</td>\n",
       "      <td>0</td>\n",
       "      <td>0</td>\n",
       "      <td>0</td>\n",
       "      <td>0</td>\n",
       "      <td>0</td>\n",
       "      <td>No</td>\n",
       "    </tr>\n",
       "    <tr>\n",
       "      <th>4</th>\n",
       "      <td>8.841186e+12</td>\n",
       "      <td>5642494</td>\n",
       "      <td>F</td>\n",
       "      <td>2016-04-29T16:07:23Z</td>\n",
       "      <td>2016-04-29T00:00:00Z</td>\n",
       "      <td>56</td>\n",
       "      <td>JARDIM DA PENHA</td>\n",
       "      <td>0</td>\n",
       "      <td>1</td>\n",
       "      <td>1</td>\n",
       "      <td>0</td>\n",
       "      <td>0</td>\n",
       "      <td>0</td>\n",
       "      <td>No</td>\n",
       "    </tr>\n",
       "  </tbody>\n",
       "</table>\n",
       "</div>"
      ],
      "text/plain": [
       "     patient_id  appointment_id gender         scheduled_day  \\\n",
       "0  2.987250e+13         5642903      F  2016-04-29T18:38:08Z   \n",
       "1  5.589978e+14         5642503      M  2016-04-29T16:08:27Z   \n",
       "2  4.262962e+12         5642549      F  2016-04-29T16:19:04Z   \n",
       "3  8.679512e+11         5642828      F  2016-04-29T17:29:31Z   \n",
       "4  8.841186e+12         5642494      F  2016-04-29T16:07:23Z   \n",
       "\n",
       "        appointment_day  age      neighbourhood  scholarship  hypertension  \\\n",
       "0  2016-04-29T00:00:00Z   62    JARDIM DA PENHA            0             1   \n",
       "1  2016-04-29T00:00:00Z   56    JARDIM DA PENHA            0             0   \n",
       "2  2016-04-29T00:00:00Z   62      MATA DA PRAIA            0             0   \n",
       "3  2016-04-29T00:00:00Z    8  PONTAL DE CAMBURI            0             0   \n",
       "4  2016-04-29T00:00:00Z   56    JARDIM DA PENHA            0             1   \n",
       "\n",
       "   diabetes  alcoholism  handicap  sms_received no_show  \n",
       "0         0           0         0             0      No  \n",
       "1         0           0         0             0      No  \n",
       "2         0           0         0             0      No  \n",
       "3         0           0         0             0      No  \n",
       "4         1           0         0             0      No  "
      ]
     },
     "execution_count": 5,
     "metadata": {},
     "output_type": "execute_result"
    }
   ],
   "source": [
    "# Let's have an initial view on the data\n",
    "df.head(5)"
   ]
  },
  {
   "cell_type": "code",
   "execution_count": 6,
   "metadata": {},
   "outputs": [
    {
     "name": "stdout",
     "output_type": "stream",
     "text": [
      "<class 'pandas.core.frame.DataFrame'>\n",
      "RangeIndex: 110527 entries, 0 to 110526\n",
      "Data columns (total 14 columns):\n",
      "patient_id         110527 non-null float64\n",
      "appointment_id     110527 non-null int64\n",
      "gender             110527 non-null object\n",
      "scheduled_day      110527 non-null object\n",
      "appointment_day    110527 non-null object\n",
      "age                110527 non-null int64\n",
      "neighbourhood      110527 non-null object\n",
      "scholarship        110527 non-null int64\n",
      "hypertension       110527 non-null int64\n",
      "diabetes           110527 non-null int64\n",
      "alcoholism         110527 non-null int64\n",
      "handicap           110527 non-null int64\n",
      "sms_received       110527 non-null int64\n",
      "no_show            110527 non-null object\n",
      "dtypes: float64(1), int64(8), object(5)\n",
      "memory usage: 11.8+ MB\n"
     ]
    }
   ],
   "source": [
    "# And another view on the dataset \n",
    "df.info()"
   ]
  },
  {
   "cell_type": "markdown",
   "metadata": {},
   "source": [
    "### Here are some initial observations:\n",
    "1. There are 13 independent variables and one dependent (no_show) in the dataset.\n",
    "2. The dataset does not contain any missing values (NaNs).\n",
    "3. The patient_id data type is float but should be int.\n",
    "4. The scheduled_day and appointment_day columns type should be changed to datetime.\n",
    "5. The appointment_day has no hour specified (it equals to 00:00:00). We will not be able to analyze if the appointment hour has anything to do with no shows.\n",
    "6. There could be interesting to know how much time passed between a visit scheduling time and the actual visit time. There is no such data column but this can be calculated from scheduled_day and appointment_day columns.\n",
    "7. Another interesting question would be how show and no-show appointments are distributed among days of week. To explore this I will calculate a column called appointment_dow."
   ]
  },
  {
   "cell_type": "markdown",
   "metadata": {},
   "source": [
    "#### Observation 3: The patient_id data type is float but should be int"
   ]
  },
  {
   "cell_type": "code",
   "execution_count": 7,
   "metadata": {},
   "outputs": [
    {
     "name": "stdout",
     "output_type": "stream",
     "text": [
      "There are 5 patients_ids that are not integers\n"
     ]
    },
    {
     "data": {
      "text/html": [
       "<div>\n",
       "<style scoped>\n",
       "    .dataframe tbody tr th:only-of-type {\n",
       "        vertical-align: middle;\n",
       "    }\n",
       "\n",
       "    .dataframe tbody tr th {\n",
       "        vertical-align: top;\n",
       "    }\n",
       "\n",
       "    .dataframe thead th {\n",
       "        text-align: right;\n",
       "    }\n",
       "</style>\n",
       "<table border=\"1\" class=\"dataframe\">\n",
       "  <thead>\n",
       "    <tr style=\"text-align: right;\">\n",
       "      <th></th>\n",
       "      <th>patient_id</th>\n",
       "      <th>appointment_id</th>\n",
       "      <th>gender</th>\n",
       "      <th>scheduled_day</th>\n",
       "      <th>appointment_day</th>\n",
       "      <th>age</th>\n",
       "      <th>neighbourhood</th>\n",
       "      <th>scholarship</th>\n",
       "      <th>hypertension</th>\n",
       "      <th>diabetes</th>\n",
       "      <th>alcoholism</th>\n",
       "      <th>handicap</th>\n",
       "      <th>sms_received</th>\n",
       "      <th>no_show</th>\n",
       "    </tr>\n",
       "  </thead>\n",
       "  <tbody>\n",
       "    <tr>\n",
       "      <th>3950</th>\n",
       "      <td>93779.52927</td>\n",
       "      <td>5712759</td>\n",
       "      <td>F</td>\n",
       "      <td>2016-05-18T09:12:29Z</td>\n",
       "      <td>2016-05-18T00:00:00Z</td>\n",
       "      <td>33</td>\n",
       "      <td>CENTRO</td>\n",
       "      <td>0</td>\n",
       "      <td>0</td>\n",
       "      <td>0</td>\n",
       "      <td>0</td>\n",
       "      <td>0</td>\n",
       "      <td>0</td>\n",
       "      <td>No</td>\n",
       "    </tr>\n",
       "    <tr>\n",
       "      <th>73228</th>\n",
       "      <td>537615.28476</td>\n",
       "      <td>5637728</td>\n",
       "      <td>F</td>\n",
       "      <td>2016-04-29T07:19:57Z</td>\n",
       "      <td>2016-05-06T00:00:00Z</td>\n",
       "      <td>14</td>\n",
       "      <td>FORTE SÃO JOÃO</td>\n",
       "      <td>0</td>\n",
       "      <td>0</td>\n",
       "      <td>0</td>\n",
       "      <td>0</td>\n",
       "      <td>0</td>\n",
       "      <td>1</td>\n",
       "      <td>No</td>\n",
       "    </tr>\n",
       "    <tr>\n",
       "      <th>73303</th>\n",
       "      <td>141724.16655</td>\n",
       "      <td>5637648</td>\n",
       "      <td>M</td>\n",
       "      <td>2016-04-29T07:13:36Z</td>\n",
       "      <td>2016-05-02T00:00:00Z</td>\n",
       "      <td>12</td>\n",
       "      <td>FORTE SÃO JOÃO</td>\n",
       "      <td>0</td>\n",
       "      <td>0</td>\n",
       "      <td>0</td>\n",
       "      <td>0</td>\n",
       "      <td>0</td>\n",
       "      <td>0</td>\n",
       "      <td>No</td>\n",
       "    </tr>\n",
       "    <tr>\n",
       "      <th>100517</th>\n",
       "      <td>39217.84439</td>\n",
       "      <td>5751990</td>\n",
       "      <td>F</td>\n",
       "      <td>2016-05-31T10:56:41Z</td>\n",
       "      <td>2016-06-03T00:00:00Z</td>\n",
       "      <td>44</td>\n",
       "      <td>PRAIA DO SUÁ</td>\n",
       "      <td>0</td>\n",
       "      <td>0</td>\n",
       "      <td>0</td>\n",
       "      <td>0</td>\n",
       "      <td>0</td>\n",
       "      <td>0</td>\n",
       "      <td>No</td>\n",
       "    </tr>\n",
       "    <tr>\n",
       "      <th>105430</th>\n",
       "      <td>43741.75652</td>\n",
       "      <td>5760144</td>\n",
       "      <td>M</td>\n",
       "      <td>2016-06-01T14:22:58Z</td>\n",
       "      <td>2016-06-01T00:00:00Z</td>\n",
       "      <td>39</td>\n",
       "      <td>MARIA ORTIZ</td>\n",
       "      <td>0</td>\n",
       "      <td>0</td>\n",
       "      <td>1</td>\n",
       "      <td>0</td>\n",
       "      <td>0</td>\n",
       "      <td>0</td>\n",
       "      <td>No</td>\n",
       "    </tr>\n",
       "  </tbody>\n",
       "</table>\n",
       "</div>"
      ],
      "text/plain": [
       "          patient_id  appointment_id gender         scheduled_day  \\\n",
       "3950     93779.52927         5712759      F  2016-05-18T09:12:29Z   \n",
       "73228   537615.28476         5637728      F  2016-04-29T07:19:57Z   \n",
       "73303   141724.16655         5637648      M  2016-04-29T07:13:36Z   \n",
       "100517   39217.84439         5751990      F  2016-05-31T10:56:41Z   \n",
       "105430   43741.75652         5760144      M  2016-06-01T14:22:58Z   \n",
       "\n",
       "             appointment_day  age   neighbourhood  scholarship  hypertension  \\\n",
       "3950    2016-05-18T00:00:00Z   33          CENTRO            0             0   \n",
       "73228   2016-05-06T00:00:00Z   14  FORTE SÃO JOÃO            0             0   \n",
       "73303   2016-05-02T00:00:00Z   12  FORTE SÃO JOÃO            0             0   \n",
       "100517  2016-06-03T00:00:00Z   44    PRAIA DO SUÁ            0             0   \n",
       "105430  2016-06-01T00:00:00Z   39     MARIA ORTIZ            0             0   \n",
       "\n",
       "        diabetes  alcoholism  handicap  sms_received no_show  \n",
       "3950           0           0         0             0      No  \n",
       "73228          0           0         0             1      No  \n",
       "73303          0           0         0             0      No  \n",
       "100517         0           0         0             0      No  \n",
       "105430         1           0         0             0      No  "
      ]
     },
     "execution_count": 7,
     "metadata": {},
     "output_type": "execute_result"
    }
   ],
   "source": [
    "# Check how many patients_ids are not integers\n",
    "non_int_patient_ids = df[~ df.patient_id.apply(lambda x: x.is_integer())]\n",
    "print('There are {} patients_ids that are not integers'.format(len(non_int_patient_ids)))\n",
    "non_int_patient_ids"
   ]
  },
  {
   "cell_type": "markdown",
   "metadata": {},
   "source": [
    "As there are only 5 float patient_ids, it seems they are typos. I will check if they would be unique ids when the decimal part is truncated. If yes, I will truncate their decimal part and keep them in the dataset."
   ]
  },
  {
   "cell_type": "code",
   "execution_count": 8,
   "metadata": {},
   "outputs": [
    {
     "name": "stdout",
     "output_type": "stream",
     "text": [
      "Patient id == 93779 does not exist.\n",
      "Patient id == 537615 does not exist.\n",
      "Patient id == 141724 does not exist.\n",
      "Patient id == 39217 does not exist.\n",
      "Patient id == 43741 does not exist.\n"
     ]
    }
   ],
   "source": [
    "# Extract float patient_ids from the list above\n",
    "patient_ids = [93779.52927, 537615.28476, 141724.16655, 39217.84439, 43741.75652]\n",
    "    \n",
    "# Convert all float patient_ids to int (by truncating the decimal part)\n",
    "# and check if such patients exist in the rest of the dataset\n",
    "for i in range(len(patient_ids)):\n",
    "    patient_ids[i] = int(patient_ids[i])\n",
    "    if df.query('patient_id == {}'.format(patient_ids[i])).empty:\n",
    "        print('Patient id == {} does not exist.'.format(patient_ids[i]))\n",
    "    else:\n",
    "        print('Patient id == {} already exists.'.format(patient_ids[i]))"
   ]
  },
  {
   "cell_type": "code",
   "execution_count": 9,
   "metadata": {},
   "outputs": [
    {
     "name": "stdout",
     "output_type": "stream",
     "text": [
      "<class 'pandas.core.frame.DataFrame'>\n",
      "RangeIndex: 110527 entries, 0 to 110526\n",
      "Data columns (total 14 columns):\n",
      "patient_id         110527 non-null int64\n",
      "appointment_id     110527 non-null int64\n",
      "gender             110527 non-null object\n",
      "scheduled_day      110527 non-null object\n",
      "appointment_day    110527 non-null object\n",
      "age                110527 non-null int64\n",
      "neighbourhood      110527 non-null object\n",
      "scholarship        110527 non-null int64\n",
      "hypertension       110527 non-null int64\n",
      "diabetes           110527 non-null int64\n",
      "alcoholism         110527 non-null int64\n",
      "handicap           110527 non-null int64\n",
      "sms_received       110527 non-null int64\n",
      "no_show            110527 non-null object\n",
      "dtypes: int64(9), object(5)\n",
      "memory usage: 11.8+ MB\n"
     ]
    }
   ],
   "source": [
    "# Convert patient_id from float to int\n",
    "df['patient_id'] = df['patient_id'].astype('int64')\n",
    "\n",
    "# Check if the patient_id is int64\n",
    "df.info()"
   ]
  },
  {
   "cell_type": "markdown",
   "metadata": {},
   "source": [
    "#### Observation 4: The scheduled_day and appointment_day columns type should be changed to datetime"
   ]
  },
  {
   "cell_type": "code",
   "execution_count": 10,
   "metadata": {},
   "outputs": [
    {
     "name": "stdout",
     "output_type": "stream",
     "text": [
      "<class 'pandas.core.frame.DataFrame'>\n",
      "RangeIndex: 110527 entries, 0 to 110526\n",
      "Data columns (total 14 columns):\n",
      "patient_id         110527 non-null int64\n",
      "appointment_id     110527 non-null int64\n",
      "gender             110527 non-null object\n",
      "scheduled_day      110527 non-null datetime64[ns]\n",
      "appointment_day    110527 non-null datetime64[ns]\n",
      "age                110527 non-null int64\n",
      "neighbourhood      110527 non-null object\n",
      "scholarship        110527 non-null int64\n",
      "hypertension       110527 non-null int64\n",
      "diabetes           110527 non-null int64\n",
      "alcoholism         110527 non-null int64\n",
      "handicap           110527 non-null int64\n",
      "sms_received       110527 non-null int64\n",
      "no_show            110527 non-null object\n",
      "dtypes: datetime64[ns](2), int64(9), object(3)\n",
      "memory usage: 11.8+ MB\n"
     ]
    }
   ],
   "source": [
    "# Convert columns types\n",
    "df['scheduled_day'] = pd.to_datetime(df['scheduled_day']).dt.date.astype('datetime64[ns]')\n",
    "df['appointment_day'] = pd.to_datetime(df['appointment_day']).dt.date.astype('datetime64[ns]')\n",
    "\n",
    "# Check if the type is now datetime\n",
    "df.info()"
   ]
  },
  {
   "cell_type": "markdown",
   "metadata": {},
   "source": [
    "#### Observation 6: Create a new column awaiting_time_days"
   ]
  },
  {
   "cell_type": "code",
   "execution_count": 11,
   "metadata": {},
   "outputs": [
    {
     "name": "stdout",
     "output_type": "stream",
     "text": [
      "<class 'pandas.core.frame.DataFrame'>\n",
      "RangeIndex: 110527 entries, 0 to 110526\n",
      "Data columns (total 15 columns):\n",
      "patient_id            110527 non-null int64\n",
      "appointment_id        110527 non-null int64\n",
      "gender                110527 non-null object\n",
      "scheduled_day         110527 non-null datetime64[ns]\n",
      "appointment_day       110527 non-null datetime64[ns]\n",
      "age                   110527 non-null int64\n",
      "neighbourhood         110527 non-null object\n",
      "scholarship           110527 non-null int64\n",
      "hypertension          110527 non-null int64\n",
      "diabetes              110527 non-null int64\n",
      "alcoholism            110527 non-null int64\n",
      "handicap              110527 non-null int64\n",
      "sms_received          110527 non-null int64\n",
      "no_show               110527 non-null object\n",
      "awaiting_time_days    110527 non-null int64\n",
      "dtypes: datetime64[ns](2), int64(10), object(3)\n",
      "memory usage: 12.6+ MB\n"
     ]
    }
   ],
   "source": [
    "# Create awaiting_time_days column\n",
    "df['awaiting_time_days'] = (df.appointment_day - df.scheduled_day).dt.days # and convert timedelta to int\n",
    "\n",
    "# Check if the column exists\n",
    "df.info()"
   ]
  },
  {
   "cell_type": "markdown",
   "metadata": {},
   "source": [
    "#### Observation 7: Create a new column appointment_dow (day of week appointment)"
   ]
  },
  {
   "cell_type": "code",
   "execution_count": 12,
   "metadata": {},
   "outputs": [
    {
     "data": {
      "text/plain": [
       "Tuesday      26168\n",
       "Wednesday    24262\n",
       "Monday       23085\n",
       "Friday       18915\n",
       "Thursday     18073\n",
       "Saturday        24\n",
       "Name: appointment_dow, dtype: int64"
      ]
     },
     "execution_count": 12,
     "metadata": {},
     "output_type": "execute_result"
    }
   ],
   "source": [
    "# Create appointment_dow column\n",
    "df['appointment_dow'] = df.scheduled_day.dt.weekday_name\n",
    "\n",
    "# Check the values\n",
    "df['appointment_dow'].value_counts()"
   ]
  },
  {
   "cell_type": "markdown",
   "metadata": {},
   "source": [
    "The distribution of appointments among days of week (Monday-Friday) is almost equal with a little bit less visits on Thursday and Friday. There are 24 visits on Saturday and none on Sunday."
   ]
  },
  {
   "cell_type": "code",
   "execution_count": 13,
   "metadata": {},
   "outputs": [
    {
     "data": {
      "text/html": [
       "<div>\n",
       "<style scoped>\n",
       "    .dataframe tbody tr th:only-of-type {\n",
       "        vertical-align: middle;\n",
       "    }\n",
       "\n",
       "    .dataframe tbody tr th {\n",
       "        vertical-align: top;\n",
       "    }\n",
       "\n",
       "    .dataframe thead th {\n",
       "        text-align: right;\n",
       "    }\n",
       "</style>\n",
       "<table border=\"1\" class=\"dataframe\">\n",
       "  <thead>\n",
       "    <tr style=\"text-align: right;\">\n",
       "      <th></th>\n",
       "      <th>patient_id</th>\n",
       "      <th>appointment_id</th>\n",
       "      <th>age</th>\n",
       "      <th>scholarship</th>\n",
       "      <th>hypertension</th>\n",
       "      <th>diabetes</th>\n",
       "      <th>alcoholism</th>\n",
       "      <th>handicap</th>\n",
       "      <th>sms_received</th>\n",
       "      <th>awaiting_time_days</th>\n",
       "    </tr>\n",
       "  </thead>\n",
       "  <tbody>\n",
       "    <tr>\n",
       "      <th>count</th>\n",
       "      <td>1.105270e+05</td>\n",
       "      <td>1.105270e+05</td>\n",
       "      <td>110527.000000</td>\n",
       "      <td>110527.000000</td>\n",
       "      <td>110527.000000</td>\n",
       "      <td>110527.000000</td>\n",
       "      <td>110527.000000</td>\n",
       "      <td>110527.000000</td>\n",
       "      <td>110527.000000</td>\n",
       "      <td>110527.000000</td>\n",
       "    </tr>\n",
       "    <tr>\n",
       "      <th>mean</th>\n",
       "      <td>1.474963e+14</td>\n",
       "      <td>5.675305e+06</td>\n",
       "      <td>37.088874</td>\n",
       "      <td>0.098266</td>\n",
       "      <td>0.197246</td>\n",
       "      <td>0.071865</td>\n",
       "      <td>0.030400</td>\n",
       "      <td>0.022248</td>\n",
       "      <td>0.321026</td>\n",
       "      <td>10.183702</td>\n",
       "    </tr>\n",
       "    <tr>\n",
       "      <th>std</th>\n",
       "      <td>2.560949e+14</td>\n",
       "      <td>7.129575e+04</td>\n",
       "      <td>23.110205</td>\n",
       "      <td>0.297675</td>\n",
       "      <td>0.397921</td>\n",
       "      <td>0.258265</td>\n",
       "      <td>0.171686</td>\n",
       "      <td>0.161543</td>\n",
       "      <td>0.466873</td>\n",
       "      <td>15.254996</td>\n",
       "    </tr>\n",
       "    <tr>\n",
       "      <th>min</th>\n",
       "      <td>3.921700e+04</td>\n",
       "      <td>5.030230e+06</td>\n",
       "      <td>-1.000000</td>\n",
       "      <td>0.000000</td>\n",
       "      <td>0.000000</td>\n",
       "      <td>0.000000</td>\n",
       "      <td>0.000000</td>\n",
       "      <td>0.000000</td>\n",
       "      <td>0.000000</td>\n",
       "      <td>-6.000000</td>\n",
       "    </tr>\n",
       "    <tr>\n",
       "      <th>25%</th>\n",
       "      <td>4.172614e+12</td>\n",
       "      <td>5.640286e+06</td>\n",
       "      <td>18.000000</td>\n",
       "      <td>0.000000</td>\n",
       "      <td>0.000000</td>\n",
       "      <td>0.000000</td>\n",
       "      <td>0.000000</td>\n",
       "      <td>0.000000</td>\n",
       "      <td>0.000000</td>\n",
       "      <td>0.000000</td>\n",
       "    </tr>\n",
       "    <tr>\n",
       "      <th>50%</th>\n",
       "      <td>3.173184e+13</td>\n",
       "      <td>5.680573e+06</td>\n",
       "      <td>37.000000</td>\n",
       "      <td>0.000000</td>\n",
       "      <td>0.000000</td>\n",
       "      <td>0.000000</td>\n",
       "      <td>0.000000</td>\n",
       "      <td>0.000000</td>\n",
       "      <td>0.000000</td>\n",
       "      <td>4.000000</td>\n",
       "    </tr>\n",
       "    <tr>\n",
       "      <th>75%</th>\n",
       "      <td>9.439172e+13</td>\n",
       "      <td>5.725524e+06</td>\n",
       "      <td>55.000000</td>\n",
       "      <td>0.000000</td>\n",
       "      <td>0.000000</td>\n",
       "      <td>0.000000</td>\n",
       "      <td>0.000000</td>\n",
       "      <td>0.000000</td>\n",
       "      <td>1.000000</td>\n",
       "      <td>15.000000</td>\n",
       "    </tr>\n",
       "    <tr>\n",
       "      <th>max</th>\n",
       "      <td>9.999816e+14</td>\n",
       "      <td>5.790484e+06</td>\n",
       "      <td>115.000000</td>\n",
       "      <td>1.000000</td>\n",
       "      <td>1.000000</td>\n",
       "      <td>1.000000</td>\n",
       "      <td>1.000000</td>\n",
       "      <td>4.000000</td>\n",
       "      <td>1.000000</td>\n",
       "      <td>179.000000</td>\n",
       "    </tr>\n",
       "  </tbody>\n",
       "</table>\n",
       "</div>"
      ],
      "text/plain": [
       "         patient_id  appointment_id            age    scholarship  \\\n",
       "count  1.105270e+05    1.105270e+05  110527.000000  110527.000000   \n",
       "mean   1.474963e+14    5.675305e+06      37.088874       0.098266   \n",
       "std    2.560949e+14    7.129575e+04      23.110205       0.297675   \n",
       "min    3.921700e+04    5.030230e+06      -1.000000       0.000000   \n",
       "25%    4.172614e+12    5.640286e+06      18.000000       0.000000   \n",
       "50%    3.173184e+13    5.680573e+06      37.000000       0.000000   \n",
       "75%    9.439172e+13    5.725524e+06      55.000000       0.000000   \n",
       "max    9.999816e+14    5.790484e+06     115.000000       1.000000   \n",
       "\n",
       "        hypertension       diabetes     alcoholism       handicap  \\\n",
       "count  110527.000000  110527.000000  110527.000000  110527.000000   \n",
       "mean        0.197246       0.071865       0.030400       0.022248   \n",
       "std         0.397921       0.258265       0.171686       0.161543   \n",
       "min         0.000000       0.000000       0.000000       0.000000   \n",
       "25%         0.000000       0.000000       0.000000       0.000000   \n",
       "50%         0.000000       0.000000       0.000000       0.000000   \n",
       "75%         0.000000       0.000000       0.000000       0.000000   \n",
       "max         1.000000       1.000000       1.000000       4.000000   \n",
       "\n",
       "        sms_received  awaiting_time_days  \n",
       "count  110527.000000       110527.000000  \n",
       "mean        0.321026           10.183702  \n",
       "std         0.466873           15.254996  \n",
       "min         0.000000           -6.000000  \n",
       "25%         0.000000            0.000000  \n",
       "50%         0.000000            4.000000  \n",
       "75%         1.000000           15.000000  \n",
       "max         1.000000          179.000000  "
      ]
     },
     "execution_count": 13,
     "metadata": {},
     "output_type": "execute_result"
    }
   ],
   "source": [
    "df.describe()"
   ]
  },
  {
   "cell_type": "markdown",
   "metadata": {},
   "source": [
    "### Additional observations\n",
    "<ul>\n",
    "    <li><b>age:</b> The patients are 37 years on average. 25% of patients are below 18 and most of them are below 55. There is a data range problem in the dataset. The age value cannot be below 0, and there are some very old people as well. To be investigated.</li>\n",
    "    <li><b>handicap:</b> is represented by 4 classes as opposed to other categorical variables in this dataset. This can be a result of an error or there are 4 categories used. Both options are potentially valid and this should be confirmed by an SME.</li>\n",
    "    <li><b>sms_received:</b> 75% of patients received sms regarding an appointment.</li>\n",
    "    <li><b>awaiting_time_days:</b> 10 days on average patients waited for an appointment. 50% of patients waited up to 4 days and 75% up to 15 days for an appointment. The longest awaiting time was 179 days. There is at least one case where a visit happened 6 days before it was scheduled. This should not happen and will be further investigated.</li>\n",
    "</ul>"
   ]
  },
  {
   "cell_type": "code",
   "execution_count": 14,
   "metadata": {},
   "outputs": [
    {
     "data": {
      "image/png": "[encoded data removed]",
      "text/plain": [
       "<Figure size 1152x1008 with 12 Axes>"
      ]
     },
     "metadata": {},
     "output_type": "display_data"
    }
   ],
   "source": [
    "df.hist(figsize=(16,14));"
   ]
  },
  {
   "cell_type": "markdown",
   "metadata": {},
   "source": [
    "#### Histogram observations"
   ]
  },
  {
   "cell_type": "markdown",
   "metadata": {},
   "source": [
    "<ul>\n",
    "    <li><b>age:</b> There are many very young people in the dataset but in general the patients age is distributed evenly and the number of patients goes drastricly down for patients older than 60 years.</li>\n",
    "    <li><b>alcoholism:</b> Most of the patients are not alcoholics.</li>\n",
    "    <li><b>diabetes:</b> Most of the patients are not diabetes but more than alcoholics.</li>\n",
    "    <li><b>handicap:</b> There are for handicap categories with most of the people not being handicapted.</li>\n",
    "    <li><b>hypertension:</b> Most patients do not have hypertension diagnosed.</li>\n",
    "</ul>"
   ]
  },
  {
   "cell_type": "markdown",
   "metadata": {},
   "source": [
    "#### gender"
   ]
  },
  {
   "cell_type": "code",
   "execution_count": 15,
   "metadata": {},
   "outputs": [
    {
     "name": "stdout",
     "output_type": "stream",
     "text": [
      "Unique Values in `gender` => ['F' 'M']\n"
     ]
    }
   ],
   "source": [
    "# Print Unique Values\n",
    "print(\"Unique Values in `gender` => {}\".format(df.gender.unique()))"
   ]
  },
  {
   "cell_type": "markdown",
   "metadata": {},
   "source": [
    "#### scheduled_day"
   ]
  },
  {
   "cell_type": "code",
   "execution_count": 16,
   "metadata": {},
   "outputs": [
    {
     "name": "stdout",
     "output_type": "stream",
     "text": [
      "Unique Values in `scheduled_day` => ['2016-04-29T00:00:00.000000000' '2016-04-27T00:00:00.000000000'\n",
      " '2016-04-26T00:00:00.000000000' '2016-04-28T00:00:00.000000000'\n",
      " '2016-04-25T00:00:00.000000000' '2016-04-20T00:00:00.000000000'\n",
      " '2016-03-31T00:00:00.000000000' '2016-04-19T00:00:00.000000000'\n",
      " '2016-04-06T00:00:00.000000000' '2016-04-18T00:00:00.000000000'\n",
      " '2016-04-11T00:00:00.000000000' '2016-04-12T00:00:00.000000000'\n",
      " '2016-04-15T00:00:00.000000000' '2016-04-01T00:00:00.000000000'\n",
      " '2016-04-05T00:00:00.000000000' '2016-04-08T00:00:00.000000000'\n",
      " '2016-04-14T00:00:00.000000000' '2016-04-13T00:00:00.000000000'\n",
      " '2016-04-07T00:00:00.000000000' '2016-03-17T00:00:00.000000000'\n",
      " '2016-03-30T00:00:00.000000000' '2016-03-29T00:00:00.000000000'\n",
      " '2016-03-18T00:00:00.000000000' '2016-03-28T00:00:00.000000000'\n",
      " '2016-03-04T00:00:00.000000000' '2016-03-15T00:00:00.000000000'\n",
      " '2016-03-14T00:00:00.000000000' '2016-03-21T00:00:00.000000000'\n",
      " '2016-03-23T00:00:00.000000000' '2016-03-22T00:00:00.000000000'\n",
      " '2016-03-16T00:00:00.000000000' '2016-03-10T00:00:00.000000000'\n",
      " '2016-02-29T00:00:00.000000000' '2016-03-08T00:00:00.000000000'\n",
      " '2016-03-07T00:00:00.000000000' '2016-02-24T00:00:00.000000000'\n",
      " '2016-02-22T00:00:00.000000000' '2016-01-29T00:00:00.000000000'\n",
      " '2016-02-23T00:00:00.000000000' '2016-02-05T00:00:00.000000000'\n",
      " '2016-02-11T00:00:00.000000000' '2016-02-02T00:00:00.000000000'\n",
      " '2016-01-05T00:00:00.000000000' '2016-01-11T00:00:00.000000000'\n",
      " '2016-02-26T00:00:00.000000000' '2016-02-19T00:00:00.000000000'\n",
      " '2016-02-17T00:00:00.000000000' '2016-03-03T00:00:00.000000000'\n",
      " '2016-03-02T00:00:00.000000000' '2016-03-09T00:00:00.000000000'\n",
      " '2016-03-01T00:00:00.000000000' '2016-03-19T00:00:00.000000000'\n",
      " '2016-03-11T00:00:00.000000000' '2016-02-16T00:00:00.000000000'\n",
      " '2016-02-25T00:00:00.000000000' '2016-04-09T00:00:00.000000000'\n",
      " '2016-05-24T00:00:00.000000000' '2016-05-25T00:00:00.000000000'\n",
      " '2016-05-31T00:00:00.000000000' '2016-05-17T00:00:00.000000000'\n",
      " '2016-05-30T00:00:00.000000000' '2016-05-12T00:00:00.000000000'\n",
      " '2016-05-19T00:00:00.000000000' '2016-05-10T00:00:00.000000000'\n",
      " '2016-05-02T00:00:00.000000000' '2016-05-16T00:00:00.000000000'\n",
      " '2016-05-04T00:00:00.000000000' '2016-05-13T00:00:00.000000000'\n",
      " '2016-05-20T00:00:00.000000000' '2016-05-05T00:00:00.000000000'\n",
      " '2016-05-18T00:00:00.000000000' '2016-05-06T00:00:00.000000000'\n",
      " '2016-05-09T00:00:00.000000000' '2016-05-03T00:00:00.000000000'\n",
      " '2016-05-11T00:00:00.000000000' '2015-11-10T00:00:00.000000000'\n",
      " '2016-02-18T00:00:00.000000000' '2016-02-03T00:00:00.000000000'\n",
      " '2016-01-14T00:00:00.000000000' '2016-01-21T00:00:00.000000000'\n",
      " '2016-01-28T00:00:00.000000000' '2016-02-01T00:00:00.000000000'\n",
      " '2015-12-14T00:00:00.000000000' '2015-12-08T00:00:00.000000000'\n",
      " '2016-01-07T00:00:00.000000000' '2016-04-30T00:00:00.000000000'\n",
      " '2016-04-16T00:00:00.000000000' '2016-02-04T00:00:00.000000000'\n",
      " '2015-12-03T00:00:00.000000000' '2016-01-04T00:00:00.000000000'\n",
      " '2016-01-13T00:00:00.000000000' '2016-02-12T00:00:00.000000000'\n",
      " '2016-01-20T00:00:00.000000000' '2016-01-22T00:00:00.000000000'\n",
      " '2016-01-25T00:00:00.000000000' '2016-01-27T00:00:00.000000000'\n",
      " '2016-01-19T00:00:00.000000000' '2016-02-15T00:00:00.000000000'\n",
      " '2016-05-14T00:00:00.000000000' '2016-05-07T00:00:00.000000000'\n",
      " '2016-06-02T00:00:00.000000000' '2016-06-03T00:00:00.000000000'\n",
      " '2016-06-01T00:00:00.000000000' '2016-06-06T00:00:00.000000000'\n",
      " '2016-06-07T00:00:00.000000000' '2016-06-08T00:00:00.000000000'\n",
      " '2016-06-04T00:00:00.000000000' '2016-01-26T00:00:00.000000000'\n",
      " '2015-12-07T00:00:00.000000000' '2015-12-15T00:00:00.000000000'\n",
      " '2016-03-05T00:00:00.000000000']\n"
     ]
    }
   ],
   "source": [
    "# Print Unique Values\n",
    "print(\"Unique Values in `scheduled_day` => {}\".format(df.scheduled_day.unique()))"
   ]
  },
  {
   "cell_type": "markdown",
   "metadata": {},
   "source": [
    "#### appointment_day"
   ]
  },
  {
   "cell_type": "code",
   "execution_count": 17,
   "metadata": {},
   "outputs": [
    {
     "name": "stdout",
     "output_type": "stream",
     "text": [
      "Unique Values in `appointment_day` => ['2016-04-29T00:00:00.000000000' '2016-05-03T00:00:00.000000000'\n",
      " '2016-05-10T00:00:00.000000000' '2016-05-17T00:00:00.000000000'\n",
      " '2016-05-24T00:00:00.000000000' '2016-05-31T00:00:00.000000000'\n",
      " '2016-05-02T00:00:00.000000000' '2016-05-30T00:00:00.000000000'\n",
      " '2016-05-16T00:00:00.000000000' '2016-05-04T00:00:00.000000000'\n",
      " '2016-05-19T00:00:00.000000000' '2016-05-12T00:00:00.000000000'\n",
      " '2016-05-06T00:00:00.000000000' '2016-05-20T00:00:00.000000000'\n",
      " '2016-05-05T00:00:00.000000000' '2016-05-13T00:00:00.000000000'\n",
      " '2016-05-09T00:00:00.000000000' '2016-05-25T00:00:00.000000000'\n",
      " '2016-05-11T00:00:00.000000000' '2016-05-18T00:00:00.000000000'\n",
      " '2016-05-14T00:00:00.000000000' '2016-06-02T00:00:00.000000000'\n",
      " '2016-06-03T00:00:00.000000000' '2016-06-06T00:00:00.000000000'\n",
      " '2016-06-07T00:00:00.000000000' '2016-06-01T00:00:00.000000000'\n",
      " '2016-06-08T00:00:00.000000000']\n"
     ]
    }
   ],
   "source": [
    "# Print Unique Values\n",
    "print(\"Unique Values in `appointment_day` => {}\".format(df.appointment_day.unique()))"
   ]
  },
  {
   "cell_type": "markdown",
   "metadata": {},
   "source": [
    "#### age"
   ]
  },
  {
   "cell_type": "code",
   "execution_count": 18,
   "metadata": {},
   "outputs": [
    {
     "name": "stdout",
     "output_type": "stream",
     "text": [
      "Unique Values in `age` => [ 62  56   8  76  23  39  21  19  30  29  22  28  54  15  50  40  46   4\n",
      "  13  65  45  51  32  12  61  38  79  18  63  64  85  59  55  71  49  78\n",
      "  31  58  27   6   2  11   7   0   3   1  69  68  60  67  36  10  35  20\n",
      "  26  34  33  16  42   5  47  17  41  44  37  24  66  77  81  70  53  75\n",
      "  73  52  74  43  89  57  14   9  48  83  72  25  80  87  88  84  82  90\n",
      "  94  86  91  98  92  96  93  95  97 102 115 100  99  -1]\n"
     ]
    }
   ],
   "source": [
    "# Print Unique Values\n",
    "print(\"Unique Values in `age` => {}\".format(df.age.unique()))"
   ]
  },
  {
   "cell_type": "markdown",
   "metadata": {},
   "source": [
    "Age value cannot be less than 0. I will remove all records with such values. I have also concerns with age values greater than 100 although they happen sometimes ( see: https://en.wikipedia.org/wiki/Oldest_people ). I will remove all records with age greater than 110 as they are unlikely to happen in such small dataset."
   ]
  },
  {
   "cell_type": "code",
   "execution_count": 19,
   "metadata": {},
   "outputs": [
    {
     "name": "stdout",
     "output_type": "stream",
     "text": [
      "Before change\n",
      "Patients with `Age` less than -1 -> 1\n",
      "Patients with `Age` equal to 0 -> 3539\n",
      "Patients with `Age` greater than 110 -> 5\n",
      "After change\n",
      "Patients with `Age` less than -1 -> 0\n",
      "Patients with `Age` equal to 0 -> 3539\n",
      "Patients with `Age` greater than 110 -> 0\n"
     ]
    }
   ],
   "source": [
    "print('Before change')\n",
    "print(\"Patients with `Age` less than -1 -> {}\".format(df[df.age == -1].shape[0]))\n",
    "print(\"Patients with `Age` equal to 0 -> {}\".format(df[df.age == 0].shape[0]))\n",
    "print(\"Patients with `Age` greater than 110 -> {}\".format(df[df.age > 110].shape[0]))\n",
    "\n",
    "df = df[(df.age >= 0) & (df.age <= 110)]\n",
    "df.age.value_counts()\n",
    "\n",
    "print('After change')\n",
    "print(\"Patients with `Age` less than -1 -> {}\".format(df[df.age == -1].shape[0]))\n",
    "print(\"Patients with `Age` equal to 0 -> {}\".format(df[df.age == 0].shape[0]))\n",
    "print(\"Patients with `Age` greater than 110 -> {}\".format(df[df.age > 110].shape[0]))"
   ]
  },
  {
   "cell_type": "code",
   "execution_count": 20,
   "metadata": {},
   "outputs": [
    {
     "data": {
      "image/png": "[encoded data removed]",
      "text/plain": [
       "<Figure size 1152x144 with 1 Axes>"
      ]
     },
     "metadata": {},
     "output_type": "display_data"
    }
   ],
   "source": [
    "# Let's see a boxplot showing what is age values distribution (already seen above in a histogram and basic descriptive statistics table)\n",
    "plt.figure(figsize=(16,2))\n",
    "plt.xticks(rotation=90)\n",
    "_ = sns.boxplot(x=df.age)"
   ]
  },
  {
   "cell_type": "code",
   "execution_count": 21,
   "metadata": {},
   "outputs": [
    {
     "data": {
      "image/png": "[encoded data removed]",
      "text/plain": [
       "<Figure size 1152x288 with 1 Axes>"
      ]
     },
     "metadata": {},
     "output_type": "display_data"
    }
   ],
   "source": [
    "# Let's see how many there are patients of each age\n",
    "plt.figure(figsize=(16,4))\n",
    "plt.xticks(rotation=90)\n",
    "ax = sns.countplot(x=df.age)\n",
    "ax.set_title(\"No of appointments by age\")\n",
    "plt.show()"
   ]
  },
  {
   "cell_type": "markdown",
   "metadata": {},
   "source": [
    "The above histogram shows a peak for the infants (patients of age 0). For higher age values the distribution starts to be uniform. After the age value of around 60 we see a right-skewed distribution."
   ]
  },
  {
   "cell_type": "markdown",
   "metadata": {},
   "source": [
    "#### scholarship"
   ]
  },
  {
   "cell_type": "code",
   "execution_count": 22,
   "metadata": {},
   "outputs": [
    {
     "name": "stdout",
     "output_type": "stream",
     "text": [
      "Unique Values in `scholarship` => [0 1]\n"
     ]
    }
   ],
   "source": [
    "# Print Unique Values\n",
    "print(\"Unique Values in `scholarship` => {}\".format(df.scholarship.unique()))"
   ]
  },
  {
   "cell_type": "markdown",
   "metadata": {},
   "source": [
    "#### hypertension"
   ]
  },
  {
   "cell_type": "code",
   "execution_count": 23,
   "metadata": {},
   "outputs": [
    {
     "name": "stdout",
     "output_type": "stream",
     "text": [
      "Unique Values in `hypertension` => [1 0]\n"
     ]
    }
   ],
   "source": [
    "# Print Unique Values\n",
    "print(\"Unique Values in `hypertension` => {}\".format(df.hypertension.unique()))"
   ]
  },
  {
   "cell_type": "markdown",
   "metadata": {},
   "source": [
    "#### diabetes"
   ]
  },
  {
   "cell_type": "code",
   "execution_count": 24,
   "metadata": {},
   "outputs": [
    {
     "name": "stdout",
     "output_type": "stream",
     "text": [
      "Unique Values in `diabetes` => [0 1]\n"
     ]
    }
   ],
   "source": [
    "# Print Unique Values\n",
    "print(\"Unique Values in `diabetes` => {}\".format(df.diabetes.unique()))"
   ]
  },
  {
   "cell_type": "markdown",
   "metadata": {},
   "source": [
    "#### alcoholism"
   ]
  },
  {
   "cell_type": "code",
   "execution_count": 25,
   "metadata": {},
   "outputs": [
    {
     "name": "stdout",
     "output_type": "stream",
     "text": [
      "Unique Values in `alcoholism` => [0 1]\n"
     ]
    }
   ],
   "source": [
    "# Print Unique Values\n",
    "print(\"Unique Values in `alcoholism` => {}\".format(df.alcoholism.unique()))"
   ]
  },
  {
   "cell_type": "markdown",
   "metadata": {},
   "source": [
    "#### handicap"
   ]
  },
  {
   "cell_type": "code",
   "execution_count": 26,
   "metadata": {},
   "outputs": [
    {
     "name": "stdout",
     "output_type": "stream",
     "text": [
      "Unique Values in `handicap` => [0 1 2 3 4]\n"
     ]
    }
   ],
   "source": [
    "# Print Unique Values\n",
    "print(\"Unique Values in `handicap` => {}\".format(df.handicap.unique()))"
   ]
  },
  {
   "cell_type": "code",
   "execution_count": 27,
   "metadata": {},
   "outputs": [
    {
     "data": {
      "text/plain": [
       "0    108284\n",
       "1      2038\n",
       "2       183\n",
       "3        13\n",
       "4         3\n",
       "Name: handicap, dtype: int64"
      ]
     },
     "execution_count": 27,
     "metadata": {},
     "output_type": "execute_result"
    }
   ],
   "source": [
    "# The handicap column contains 4 numeric values (classes), which is unusual comparing to other cathegorical variables in the dataset\n",
    "df.handicap.value_counts()"
   ]
  },
  {
   "cell_type": "markdown",
   "metadata": {},
   "source": [
    "There are too many values other than 0 or 1 to consider them as typos, so there most likely is a meaning for different kinds of hendicapness. This should be confirmed by an SME and as such will not be changed for now."
   ]
  },
  {
   "cell_type": "markdown",
   "metadata": {},
   "source": [
    "#### sms_received"
   ]
  },
  {
   "cell_type": "code",
   "execution_count": 28,
   "metadata": {},
   "outputs": [
    {
     "name": "stdout",
     "output_type": "stream",
     "text": [
      "Unique Values in `sms_received` => [0 1]\n"
     ]
    }
   ],
   "source": [
    "# Print Unique Values\n",
    "print(\"Unique Values in `sms_received` => {}\".format(df.sms_received.unique()))"
   ]
  },
  {
   "cell_type": "markdown",
   "metadata": {},
   "source": [
    "#### awaiting_time_days"
   ]
  },
  {
   "cell_type": "code",
   "execution_count": 29,
   "metadata": {},
   "outputs": [
    {
     "name": "stdout",
     "output_type": "stream",
     "text": [
      "Unique Values in `awaiting_time_days` => [  0   2   3   1   4   9  29  10  23  11  18  17  14  28  24  21  15  16\n",
      "  22  43  30  31  42  32  56  45  46  39  37  38  44  50  60  52  53  65\n",
      "  67  91  66  84  78  87 115 109  63  70  72  57  58  51  59  41  49  73\n",
      "  64  20  33  34   6  35  36  12  13  40  47   8   5   7  25  26  48  27\n",
      "  19  61  55  62 176  54  77  69  83  76  89  81 103  79  68  75  85 112\n",
      "  -1  80  86  98  94 142 155 162 169 104 133 125  96  88  90 151 126 127\n",
      " 111 119  74  71  82 108 110 102 122 101 105  92  97  93 107  95  -6 139\n",
      " 132 179 117 146 123]\n"
     ]
    }
   ],
   "source": [
    "# Print Unique Values\n",
    "print(\"Unique Values in `awaiting_time_days` => {}\".format(df.awaiting_time_days.unique()))"
   ]
  },
  {
   "cell_type": "code",
   "execution_count": 30,
   "metadata": {},
   "outputs": [
    {
     "name": "stdout",
     "output_type": "stream",
     "text": [
      "Before change: -1    4\n",
      "-6    1\n",
      "Name: awaiting_time_days, dtype: int64\n",
      "After change: Series([], Name: awaiting_time_days, dtype: int64)\n"
     ]
    }
   ],
   "source": [
    "# Awaiting time cannot be less than 0. I am assuming that a visit cannot happen before it is scheduled.\n",
    "# Let's see how many such values exist\n",
    "print('Before change: {}'.format(df[(df.awaiting_time_days < 0)].awaiting_time_days.value_counts()))\n",
    "\n",
    "# I will remove all records with such values.\n",
    "df = df[(df.awaiting_time_days >= 0)]\n",
    "\n",
    "#Check if any awaiting time days values below 0 left in the dataset\n",
    "print('After change: {}'.format(df[(df.awaiting_time_days < 0)].awaiting_time_days.value_counts()))"
   ]
  },
  {
   "cell_type": "code",
   "execution_count": 31,
   "metadata": {},
   "outputs": [
    {
     "data": {
      "image/png": "[encoded data removed]",
      "text/plain": [
       "<Figure size 1152x288 with 1 Axes>"
      ]
     },
     "metadata": {},
     "output_type": "display_data"
    }
   ],
   "source": [
    "# Let's see how many there are patients of each age\n",
    "plt.figure(figsize=(16,4))\n",
    "plt.xticks(rotation=90)\n",
    "ax = sns.countplot(x=df.awaiting_time_days)\n",
    "ax.set_title(\"No of patients by awaiting time in days\")\n",
    "plt.show()"
   ]
  },
  {
   "cell_type": "code",
   "execution_count": 32,
   "metadata": {},
   "outputs": [
    {
     "data": {
      "text/plain": [
       "0    38561\n",
       "Name: awaiting_time_days, dtype: int64"
      ]
     },
     "execution_count": 32,
     "metadata": {},
     "output_type": "execute_result"
    }
   ],
   "source": [
    "# Return number of patients with awaiting_time_days == 0\n",
    "awaiting0 = df[(df.awaiting_time_days == 0)].awaiting_time_days.value_counts()\n",
    "awaiting0"
   ]
  },
  {
   "cell_type": "markdown",
   "metadata": {},
   "source": [
    "It is worth to notice that almost 40k patients scheduled their visit for the same day."
   ]
  },
  {
   "cell_type": "code",
   "execution_count": 33,
   "metadata": {},
   "outputs": [
    {
     "name": "stdout",
     "output_type": "stream",
     "text": [
      "Out of all patients scheduling an appointment for the same day (in total 38561), 1792 of patients did not show up (5%).\n"
     ]
    }
   ],
   "source": [
    "awaiting0_not_showed_up = len(df.query('awaiting_time_days  == 0 and no_show == \"Yes\"'))\n",
    "awaiting0_not_showed_up_ratio = int(round(awaiting0_not_showed_up/awaiting0[0]*100))\n",
    "print('Out of all patients scheduling an appointment for the same day (in total {}), {} of patients did not show up ({}%).'.format(awaiting0[0], \n",
    "                                                                                                                                   awaiting0_not_showed_up, \n",
    "                                                                                                                                   awaiting0_not_showed_up_ratio))"
   ]
  },
  {
   "cell_type": "code",
   "execution_count": 34,
   "metadata": {},
   "outputs": [
    {
     "data": {
      "image/png": "[encoded data removed]",
      "text/plain": [
       "<Figure size 432x288 with 1 Axes>"
      ]
     },
     "metadata": {},
     "output_type": "display_data"
    }
   ],
   "source": [
    "# It seems that most of the visits happened within 3 months from being scheduled\n",
    "sns.stripplot(data = df, y = 'awaiting_time_days', jitter = True)\n",
    "plt.ylim(0, 200)\n",
    "plt.show();"
   ]
  },
  {
   "cell_type": "markdown",
   "metadata": {},
   "source": [
    "#### scheduled_day"
   ]
  },
  {
   "cell_type": "code",
   "execution_count": 35,
   "metadata": {},
   "outputs": [
    {
     "name": "stdout",
     "output_type": "stream",
     "text": [
      "Scheduling visits started on: 2015-11-10 00:00:00.\n",
      "Scheduling visits ended on: 2016-06-08 00:00:00.\n"
     ]
    },
    {
     "data": {
      "image/png": "[encoded data removed]",
      "text/plain": [
       "<Figure size 720x720 with 1 Axes>"
      ]
     },
     "metadata": {},
     "output_type": "display_data"
    }
   ],
   "source": [
    "print('Scheduling visits started on: {}.'.format(df['scheduled_day'].min()))\n",
    "print('Scheduling visits ended on: {}.'.format(df['scheduled_day'].max()))\n",
    "\n",
    "fig = plt.figure(figsize=(10, 10))\n",
    "ax = fig.add_subplot(1, 1, 1)\n",
    "ax.set_xlabel('scheduled_day')\n",
    "ax.set_ylabel('frequency')\n",
    "df['scheduled_day'].hist();"
   ]
  },
  {
   "cell_type": "markdown",
   "metadata": {},
   "source": [
    "The distribution of appointments scheduled is left skewed. Most of the schedules were made between April and June of 2016."
   ]
  },
  {
   "cell_type": "markdown",
   "metadata": {},
   "source": [
    "#### appointment_day"
   ]
  },
  {
   "cell_type": "code",
   "execution_count": 36,
   "metadata": {},
   "outputs": [
    {
     "name": "stdout",
     "output_type": "stream",
     "text": [
      "Visit appointments started on: 2016-04-29 00:00:00.\n",
      "Visit appointments ended on: 2016-06-08 00:00:00.\n"
     ]
    },
    {
     "data": {
      "image/png": "[encoded data removed]",
      "text/plain": [
       "<Figure size 720x720 with 1 Axes>"
      ]
     },
     "metadata": {},
     "output_type": "display_data"
    }
   ],
   "source": [
    "print('Visit appointments started on: {}.'.format(df['appointment_day'].min()))\n",
    "print('Visit appointments ended on: {}.'.format(df['appointment_day'].max()))\n",
    "\n",
    "fig = plt.figure(figsize=(10, 10))\n",
    "ax = fig.add_subplot(1,1,1)\n",
    "ax.set_xlabel('scheduled_day')\n",
    "ax.set_ylabel('frequency')\n",
    "df['appointment_day'].hist(grid=False, ax=ax);"
   ]
  },
  {
   "cell_type": "markdown",
   "metadata": {},
   "source": [
    "#### appointment_dow"
   ]
  },
  {
   "cell_type": "code",
   "execution_count": 37,
   "metadata": {},
   "outputs": [
    {
     "name": "stdout",
     "output_type": "stream",
     "text": [
      "Unique Values in `appointment_dow` => ['Friday' 'Wednesday' 'Tuesday' 'Thursday' 'Monday' 'Saturday']\n"
     ]
    }
   ],
   "source": [
    "# Print Unique Values\n",
    "print(\"Unique Values in `appointment_dow` => {}\".format(df.appointment_dow.unique()))"
   ]
  },
  {
   "cell_type": "markdown",
   "metadata": {},
   "source": [
    "#### appointment_id"
   ]
  },
  {
   "cell_type": "code",
   "execution_count": 38,
   "metadata": {},
   "outputs": [
    {
     "name": "stdout",
     "output_type": "stream",
     "text": [
      "110516 == 110516\n"
     ]
    }
   ],
   "source": [
    "# Are the appointments ids unique?\n",
    "# If yes, then num_unique_apps will be equal to number of all records in our dataset\n",
    "num_unique_apps = len(df.appointment_id.unique())\n",
    "all_dataset_rec_number = df.shape[0]\n",
    "print('{} == {}'.format(num_unique_apps, all_dataset_rec_number))"
   ]
  },
  {
   "cell_type": "markdown",
   "metadata": {},
   "source": [
    "<a id='questions'></a>\n",
    "## Questions\n",
    "Based on dataset analysis, I will focus on putting more light on answers to the following questions:\n",
    "\n",
    "1. How many percent of patients missed their scheduled appointment?\n",
    "2. What is the gender distribution for show / no-show patients?\n",
    "3. Are there patients with more than one appointment? If yes, what are the top 10 patients with most appointments?\n",
    "4. What factors are important to know in order to predict if a patient will show up for their scheduled appointment?\n",
    "5. What is age distribution of diabetes who showed and did not show up?\n",
    "6. How activities done by an appointment scheduling office (sending SMS, participation in scholarship) influence show / no-show ratio?"
   ]
  },
  {
   "cell_type": "markdown",
   "metadata": {},
   "source": [
    "<a id='eda'></a>\n",
    "## Exploratory Data Analysis"
   ]
  },
  {
   "cell_type": "markdown",
   "metadata": {},
   "source": [
    "### 1. How many percent of patients missed their scheduled appointment?"
   ]
  },
  {
   "cell_type": "code",
   "execution_count": 39,
   "metadata": {},
   "outputs": [
    {
     "data": {
      "image/png": "[encoded data removed]",
      "text/plain": [
       "<Figure size 432x288 with 1 Axes>"
      ]
     },
     "metadata": {},
     "output_type": "display_data"
    },
    {
     "name": "stdout",
     "output_type": "stream",
     "text": [
      "20% of appointments were missed.\n"
     ]
    }
   ],
   "source": [
    "all_appointments = df.shape[0]\n",
    "missed_appointments = len(df.query('no_show == \\'Yes\\''))\n",
    "missed_ratio = int(round(missed_appointments/all_appointments*100))\n",
    "\n",
    "ax = sns.countplot(x=df.no_show, data=df)\n",
    "ax.set_title(\"Show / No-Show Patients\")\n",
    "plt.show();\n",
    "\n",
    "print('{}% of appointments were missed.'.format(missed_ratio))"
   ]
  },
  {
   "cell_type": "markdown",
   "metadata": {},
   "source": [
    "### 2. What is the gender distribution for show / no-show patients?"
   ]
  },
  {
   "cell_type": "code",
   "execution_count": 40,
   "metadata": {},
   "outputs": [
    {
     "data": {
      "image/png": "[encoded data removed]",
      "text/plain": [
       "<Figure size 432x288 with 1 Axes>"
      ]
     },
     "metadata": {},
     "output_type": "display_data"
    },
    {
     "name": "stdout",
     "output_type": "stream",
     "text": [
      "Out of 71831 appointments made by females, 14588 were missed with the ratio of 20%.\n",
      "Out of 38685 appointments made by males, 7723 were missed with the ratio of 20%.\n"
     ]
    }
   ],
   "source": [
    "all_appointments_by_f = len(df.loc[df['gender'] == \"F\"])\n",
    "all_appointments_by_m = len(df.loc[df['gender'] == \"M\"])\n",
    "\n",
    "missed_appointments_by_f = len(df.query('no_show == \"Yes\" and gender == \"F\"'))\n",
    "missed_appointments_by_m = len(df.loc[(df['gender'] == \"M\") & (df['no_show'] == \"Yes\")])\n",
    "\n",
    "missed_ratio_f = int(round(missed_appointments_by_f/all_appointments_by_f*100))\n",
    "missed_ratio_m = int(round(missed_appointments_by_m/all_appointments_by_m*100))\n",
    "\n",
    "ax = sns.countplot(x=df.gender, hue=df.no_show, data=df)\n",
    "ax.set_title(\"Show / No-Show for Females and Males\")\n",
    "x_ticks_labels=['Female', 'Male']\n",
    "plt.show();\n",
    "\n",
    "print('Out of {} appointments made by females, {} were missed with the ratio of {}%.'.format(all_appointments_by_f, missed_appointments_by_f, missed_ratio_f))\n",
    "print('Out of {} appointments made by males, {} were missed with the ratio of {}%.'.format(all_appointments_by_m, missed_appointments_by_m, missed_ratio_m))"
   ]
  },
  {
   "cell_type": "markdown",
   "metadata": {},
   "source": [
    "### 3. Are there patients with more than one appointment? If yes, what are the top 10 patients with most appointments?"
   ]
  },
  {
   "cell_type": "code",
   "execution_count": 41,
   "metadata": {},
   "outputs": [
    {
     "data": {
      "text/plain": [
       "822145925426128    88\n",
       "99637671331        84\n",
       "26886125921145     70\n",
       "33534783483176     65\n",
       "258424392677       62\n",
       "75797461494159     62\n",
       "871374938638855    62\n",
       "6264198675331      62\n",
       "66844879846766     57\n",
       "872278549442       55\n",
       "Name: patient_id, dtype: int64"
      ]
     },
     "execution_count": 41,
     "metadata": {},
     "output_type": "execute_result"
    }
   ],
   "source": [
    "df.patient_id.value_counts().iloc[0:10]"
   ]
  },
  {
   "cell_type": "markdown",
   "metadata": {},
   "source": [
    "There are patients with multiple appointments. The number of appointments of top 10 patients range from 88 to 55. Taking into consideration, that the time range of visits appointed spans over 1.5 months, an appointment is most likely each examination or each specialist visit. So within one patient visit in a hospital, there could be multiple appointments scheduled. One of the no-show reasons could be the fact, that patients could be too tired to take part in all examinations during a particular visit, or the open hours were not sufficient to show up in all appointments. There could be also other reasons. The high number of appointments over so short period of time should be consulted with an SME to decide if performing (or not) additional analysis in this area makes sense."
   ]
  },
  {
   "cell_type": "markdown",
   "metadata": {},
   "source": [
    "### 4. What factors are important to know in order to predict if a patient will show up for their scheduled appointment?"
   ]
  },
  {
   "cell_type": "code",
   "execution_count": 42,
   "metadata": {},
   "outputs": [
    {
     "data": {
      "image/png": "[encoded data removed]",
      "text/plain": [
       "<Figure size 1152x792 with 8 Axes>"
      ]
     },
     "metadata": {},
     "output_type": "display_data"
    }
   ],
   "source": [
    "# First, let's look at categorical variables\n",
    "categorical_vars = ['gender', 'scholarship', 'hypertension', 'diabetes', 'alcoholism', 'handicap', 'sms_received', 'appointment_dow']\n",
    "\n",
    "fig = plt.figure(figsize=(16, 11))\n",
    "for i, var in enumerate(categorical_vars):\n",
    "    ax = fig.add_subplot(3, 3, i+1)\n",
    "    df.groupby([var, 'no_show'])[var].count().unstack('no_show').plot(ax=ax, kind='bar', stacked=True)"
   ]
  },
  {
   "cell_type": "markdown",
   "metadata": {},
   "source": [
    "For all categorical variables the distributions of show / no-show for different categories look very similar. There is no clear indication of any of these variables having bigger then others impact on show / no-show characteristics. The charts confirm about 20% no-show rate for most categories."
   ]
  },
  {
   "cell_type": "code",
   "execution_count": 43,
   "metadata": {},
   "outputs": [],
   "source": [
    "# Two useful masks to be used in further analysis\n",
    "showed = df.no_show == 'No'\n",
    "not_showed = df.no_show == 'Yes'"
   ]
  },
  {
   "cell_type": "code",
   "execution_count": 44,
   "metadata": {},
   "outputs": [
    {
     "data": {
      "image/png": "[encoded data removed]",
      "text/plain": [
       "<Figure size 432x288 with 1 Axes>"
      ]
     },
     "metadata": {},
     "output_type": "display_data"
    }
   ],
   "source": [
    "# Let's now look closer to numerical variables\n",
    "# Age:\n",
    "df.age[showed].hist(alpha=0.8, bins=20);\n",
    "df.age[not_showed].hist(alpha=0.8, bins=20);"
   ]
  },
  {
   "cell_type": "markdown",
   "metadata": {},
   "source": [
    "Infants show up most often then people around 50-55. But between 1-65 years old, the rate of no-shows seems to be higher than 20%."
   ]
  },
  {
   "cell_type": "code",
   "execution_count": 45,
   "metadata": {},
   "outputs": [
    {
     "data": {
      "image/png": "[encoded data removed]",
      "text/plain": [
       "<Figure size 432x288 with 1 Axes>"
      ]
     },
     "metadata": {},
     "output_type": "display_data"
    }
   ],
   "source": [
    "# Number of days between the date of scheduling an appointment and the appointment itself\n",
    "df.awaiting_time_days[showed].hist(alpha=0.8, bins=20);\n",
    "df.awaiting_time_days[not_showed].hist(alpha=0.8, bins=20);"
   ]
  },
  {
   "cell_type": "markdown",
   "metadata": {},
   "source": [
    "The shorten awaiting period the more patients show up. Patiens scheduling appointments for the same day are much more likely to show up (ca. 17% of not showing up only)."
   ]
  },
  {
   "cell_type": "markdown",
   "metadata": {},
   "source": [
    "### 5. What is age distribution of diabetes who showed and did not show up?"
   ]
  },
  {
   "cell_type": "code",
   "execution_count": 46,
   "metadata": {},
   "outputs": [],
   "source": [
    "# This is a helper column representing no_shows in a numerical form (Yes->1, No->0)\n",
    "df['no_show_numeric'] = np.where(df['no_show']=='Yes', 1, 0)"
   ]
  },
  {
   "cell_type": "code",
   "execution_count": 47,
   "metadata": {},
   "outputs": [
    {
     "data": {
      "text/html": [
       "<div>\n",
       "<style scoped>\n",
       "    .dataframe tbody tr th:only-of-type {\n",
       "        vertical-align: middle;\n",
       "    }\n",
       "\n",
       "    .dataframe tbody tr th {\n",
       "        vertical-align: top;\n",
       "    }\n",
       "\n",
       "    .dataframe thead th {\n",
       "        text-align: right;\n",
       "    }\n",
       "</style>\n",
       "<table border=\"1\" class=\"dataframe\">\n",
       "  <thead>\n",
       "    <tr style=\"text-align: right;\">\n",
       "      <th></th>\n",
       "      <th>diabetes</th>\n",
       "      <th>no_show_numeric</th>\n",
       "    </tr>\n",
       "  </thead>\n",
       "  <tbody>\n",
       "    <tr>\n",
       "      <th>0</th>\n",
       "      <td>0</td>\n",
       "      <td>0.203572</td>\n",
       "    </tr>\n",
       "    <tr>\n",
       "      <th>1</th>\n",
       "      <td>1</td>\n",
       "      <td>0.180033</td>\n",
       "    </tr>\n",
       "  </tbody>\n",
       "</table>\n",
       "</div>"
      ],
      "text/plain": [
       "   diabetes  no_show_numeric\n",
       "0         0         0.203572\n",
       "1         1         0.180033"
      ]
     },
     "execution_count": 47,
     "metadata": {},
     "output_type": "execute_result"
    }
   ],
   "source": [
    "df[['diabetes', 'no_show_numeric']].groupby(['diabetes'], as_index=False).mean().sort_values(by='no_show_numeric', ascending=False)"
   ]
  },
  {
   "cell_type": "markdown",
   "metadata": {},
   "source": [
    "In general, 18% of diabetes did not show up, which is about 2% lower from the general average of not showing up. It seems that diabetes are more careful about their health and take medial appointments more seriously then non diabetes."
   ]
  },
  {
   "cell_type": "code",
   "execution_count": 48,
   "metadata": {},
   "outputs": [
    {
     "data": {
      "image/png": "[encoded data removed]",
      "text/plain": [
       "<Figure size 1021.76x633.6 with 4 Axes>"
      ]
     },
     "metadata": {},
     "output_type": "display_data"
    }
   ],
   "source": [
    "grid = sns.FacetGrid(df, col='no_show_numeric', row='diabetes', height=4.4, aspect=1.6)\n",
    "grid.map(plt.hist, 'age', alpha=.5, bins=20)\n",
    "grid.add_legend();"
   ]
  },
  {
   "cell_type": "markdown",
   "metadata": {},
   "source": [
    "The diabetes distribution shape is symetrical. The mean of this distribution is about 60. To calculate it more precisely, as well as its standard deviation a statistical method should be used."
   ]
  },
  {
   "cell_type": "markdown",
   "metadata": {},
   "source": [
    "### 6. How activities done by an appointment scheduling office (sending SMS) influence show / no-show ratio?"
   ]
  },
  {
   "cell_type": "code",
   "execution_count": 49,
   "metadata": {},
   "outputs": [
    {
     "data": {
      "image/png": "[encoded data removed]",
      "text/plain": [
       "<Figure size 551.505x633.6 with 2 Axes>"
      ]
     },
     "metadata": {},
     "output_type": "display_data"
    }
   ],
   "source": [
    "# The Pointplot uses bootstraping method to estimate of a mean and a std error\n",
    "# Appointments related to patients with diabetes and receiving SMS:\n",
    "grid = sns.FacetGrid(df, row='sms_received', height=4.4, aspect=1.6)\n",
    "grid.map(sns.pointplot, 'diabetes', 'no_show_numeric', 'gender', palette='deep', dodge=True)\n",
    "grid.add_legend();"
   ]
  },
  {
   "cell_type": "markdown",
   "metadata": {},
   "source": [
    "It is tempting (and counter intuitive at the same time) to say that patients with diabetes showed up less frequently if they got SMS messages. Unfortunately the standard error for diabetes is too high, lowering our confidence in the result showed in the diagram above."
   ]
  },
  {
   "cell_type": "code",
   "execution_count": 50,
   "metadata": {},
   "outputs": [
    {
     "data": {
      "image/png": "[encoded data removed]",
      "text/plain": [
       "<Figure size 551.505x633.6 with 2 Axes>"
      ]
     },
     "metadata": {},
     "output_type": "display_data"
    }
   ],
   "source": [
    "# Appointments related to patients with hypertension and receiving SMS:\n",
    "grid = sns.FacetGrid(df, row='sms_received', height=4.4, aspect=1.6)\n",
    "grid.map(sns.pointplot, 'hypertension', 'no_show_numeric', 'gender', palette='deep', dodge=True)\n",
    "grid.add_legend();"
   ]
  },
  {
   "cell_type": "markdown",
   "metadata": {},
   "source": [
    "Among appointments done by patients with hypertension, it seems that sending SMS results in a greater ratio of no-shows (22-24% comparing to 16%). Another surprising insight tell us that men's no-show ratio is lower than women's. Normally, I would say otherwise. In both cases (when SMS is sent or not), no-show ratio of patients with diagnosed hypertension is lower than the ones without hypertension."
   ]
  },
  {
   "cell_type": "code",
   "execution_count": 51,
   "metadata": {},
   "outputs": [
    {
     "data": {
      "image/png": "[encoded data removed]",
      "text/plain": [
       "<Figure size 551.505x633.6 with 2 Axes>"
      ]
     },
     "metadata": {},
     "output_type": "display_data"
    }
   ],
   "source": [
    "# Appointments related to patients with diabetes and participation in scholarship:\n",
    "grid = sns.FacetGrid(df, row='scholarship', height=4.4, aspect=1.6)\n",
    "grid.map(sns.pointplot, 'diabetes', 'no_show_numeric', 'gender', palette='deep', dodge=True)\n",
    "grid.add_legend();"
   ]
  },
  {
   "cell_type": "code",
   "execution_count": 52,
   "metadata": {},
   "outputs": [
    {
     "data": {
      "image/png": "[encoded data removed]",
      "text/plain": [
       "<Figure size 551.505x633.6 with 2 Axes>"
      ]
     },
     "metadata": {},
     "output_type": "display_data"
    }
   ],
   "source": [
    "# Appointments related to patients with hypertension and participation in scholarship:\n",
    "grid = sns.FacetGrid(df, row='scholarship', height=4.4, aspect=1.6)\n",
    "grid.map(sns.pointplot, 'hypertension', 'no_show_numeric', 'gender', palette='deep', dodge=True)\n",
    "grid.add_legend();"
   ]
  },
  {
   "cell_type": "markdown",
   "metadata": {},
   "source": [
    "Regarding scholarship, the result cannot be interpreted because of too high standard error span."
   ]
  },
  {
   "cell_type": "markdown",
   "metadata": {},
   "source": [
    "<a id='conclusions'></a>\n",
    "## Conclusions"
   ]
  },
  {
   "cell_type": "markdown",
   "metadata": {},
   "source": [
    "I have looked into the dataset and managed a few problems like unifying names, removing wrong data, adding new features based on existing data. I have also investigated most of independent variables in the dataset and made a few observations comparing them to each other as well as to the dependent one (no_show). As this was only an exploratory analysis, many potential correlations may remain uncovered. The data should be investigated further with more advanced statistical analysis to potentially reveal new insights and correlations.\n",
    "\n",
    "The most important findings are:\n",
    "\n",
    "- Scheduling visits started on 2015-11-10 and ended on 2016-06-08.\n",
    "- Visit appointments started on 2016-04-29 and ended on 2016-06-08.\n",
    "\n",
    "- The distribution of appointments among days of week (Monday-Friday) is almost equal with a little bit less visits on Thursday and Friday. There are 24 visits on Saturday and none on Sunday.\n",
    "- 10 days on average patients awaited for an appointment. 50% of patients waited up to 4 days and 75% up to 15 days for an appointment. The longest awaiting time was 179 days.\n",
    "- Almost 40k patients scheduled their visit for the same day.\n",
    "- Out of all patients scheduling an appointment for the same day (in total 38561), 1792 of patients did not show up (5%).\n",
    "\n",
    "- There are many very young people in the dataset (most of them of age 0) but in general the patients age is distributed evenly and the number of patients goes drastricly down for patients older than 60 years.\n",
    "- The patients are 37 years on average. 25% of patients are below 18 and most of them are below 55.\n",
    "\n",
    "- Most of the patients are not alcoholics.\n",
    "- Most of the patients are not diabetes but more than alcoholics.\n",
    "- There are for handicap categories with most of the people not being handicapted.\n",
    "- Most patients do not have hypertension diagnosed.\n",
    "\n",
    "- On average, 20% of appointments were missed.\n",
    "- Out of 71831 appointments made by females, 14588 were missed with the ratio of 20%.\n",
    "- Out of 38685 appointments made by males, 7723 were missed with the ratio of 20%.\n",
    "\n",
    "- There are patients with multiple appoinpments. The number appointments of top 10 patients range from 88 to 55. Taking into consideration, that the time range of visits appointed spans over 3 months, an appointment is most likely each examination or each specialist visit. So within one patient visit in a hospital, there could be multiple appointments scheduled. One of the no-show reasons could be the fact, that patients could be too tired to take part in all examinations during a particular visit, or the open hours were not sufficient to show up in all appointments. There could be also other reasons. The high number of appointments over so short period of time should be consulted with an SME to perform (or not) additional analysis in this area.\n",
    "\n",
    "- For all categorical variables the distributions of show / no-show for different categories look very similar. There is no clear indication of any of these variables having bigger then others impact on show / no-show characteristics. The charts confirm about 20% no-show rate for most categories.\n",
    "\n",
    "- The shorten awaiting period the more patients show up. Patiens scheduling appointments for the same day are much more likely to show up (ca. 17% of not showing up only)."
   ]
  },
  {
   "cell_type": "code",
   "execution_count": null,
   "metadata": {},
   "outputs": [],
   "source": []
  }
 ],
 "metadata": {
  "kernelspec": {
   "display_name": "Python [conda env:anaconda3]",
   "language": "python",
   "name": "conda-env-anaconda3-py"
  },
  "language_info": {
   "codemirror_mode": {
    "name": "ipython",
    "version": 3
   },
   "file_extension": ".py",
   "mimetype": "text/x-python",
   "name": "python",
   "nbconvert_exporter": "python",
   "pygments_lexer": "ipython3",
   "version": "3.6.6"
  }
 },
 "nbformat": 4,
 "nbformat_minor": 2
}
